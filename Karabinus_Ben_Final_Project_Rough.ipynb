{
 "cells": [
  {
   "cell_type": "code",
   "execution_count": 1,
   "metadata": {},
   "outputs": [],
   "source": [
    "\"\"\"\n",
    "Import necessary libraries\n",
    "\"\"\"\n",
    "import pandas as pd\n",
    "import numpy as np\n",
    "import matplotlib_inline\n",
    "import matplotlib.pyplot as plt\n",
    "import seaborn as sns\n",
    "import plotly.express as px\n",
    "import plotly.graph_objects as go\n",
    "from plotly.subplots import make_subplots\n",
    "from sklearn.preprocessing import MinMaxScaler, OrdinalEncoder, StandardScaler, RobustScaler, PowerTransformer, LabelEncoder\n",
    "from sklearn.feature_selection import SelectKBest, mutual_info_classif\n",
    "from sklearn.model_selection import train_test_split, cross_val_score, RepeatedStratifiedKFold\n",
    "from sklearn.metrics import accuracy_score\n",
    "#from sklearn.ensemble import\n",
    "from lightgbm import LGBMClassifier\n",
    "from xgboost import XGBClassifier\n"
   ]
  },
  {
   "cell_type": "code",
   "execution_count": 2,
   "metadata": {},
   "outputs": [
    {
     "name": "stderr",
     "output_type": "stream",
     "text": [
      "/Users/benkarabinus/.local/share/virtualenvs/TOOL1_FINAL_PROJECT-_N6x3YZ3/lib/python3.9/site-packages/openpyxl/worksheet/_reader.py:312: UserWarning: Data Validation extension is not supported and will be removed\n",
      "  warn(msg)\n"
     ]
    }
   ],
   "source": [
    "\"\"\"\n",
    "Read in the data\n",
    "\"\"\"\n",
    "opportunities = pd.read_excel('Opportunity.xlsx')\n",
    "NAICS = pd.read_excel('NAICS.xlsx')"
   ]
  },
  {
   "cell_type": "markdown",
   "metadata": {},
   "source": [
    "# Exploratory Data Analysis"
   ]
  },
  {
   "cell_type": "markdown",
   "metadata": {},
   "source": [
    "## *Data Cleaning and Feature Engineering*"
   ]
  },
  {
   "cell_type": "markdown",
   "metadata": {},
   "source": [
    "### Objectives\n",
    "- Column naming convention\n",
    "- NAICS categories must be joined with opportunities.\n",
    "- Record creation date should be subtracted from system close date to create a new feature representing days an opportunity is active.\n",
    "- The range of estimated revenue for opportunities varies greatly. A feature categorizing estimated revenue by quartile range should be added.\n",
    "- Remove non-informative data.\n",
    "- Handle missing data.\n",
    "- Separate categorical and continuous features for further analysis."
   ]
  },
  {
   "cell_type": "code",
   "execution_count": 3,
   "metadata": {},
   "outputs": [
    {
     "name": "stdout",
     "output_type": "stream",
     "text": [
      "<class 'pandas.core.frame.DataFrame'>\n",
      "RangeIndex: 3894 entries, 0 to 3893\n",
      "Columns: 106 entries, (Do Not Modify) Opportunity to PFY RSM Services Spend (Account) (Account)\n",
      "dtypes: datetime64[ns](12), float64(27), int64(1), object(66)\n",
      "memory usage: 3.1+ MB\n"
     ]
    }
   ],
   "source": [
    "\"\"\"dataframe summary\"\"\"\n",
    "opportunities.info()"
   ]
  },
  {
   "cell_type": "markdown",
   "metadata": {},
   "source": [
    "*Rename columns for ease of use and readability*"
   ]
  },
  {
   "cell_type": "code",
   "execution_count": 4,
   "metadata": {},
   "outputs": [],
   "source": [
    "opportunities.columns = opportunities.columns.str.replace('\\([^)]*\\)', '', regex=True)\n",
    "opportunities.columns = opportunities.columns.str.replace('\\.', '', regex=True)\n",
    "opportunities.columns = opportunities.columns.str.replace(':', '')\n",
    "opportunities.columns = opportunities.columns.str.replace('/', '_')\n",
    "opportunities = opportunities.rename(columns=lambda x : x.strip())\n",
    "opportunities.columns = opportunities.columns.str.replace(' ','_')\n",
    "opportunities.columns = opportunities.columns.str.replace('Address_1', '')\n",
    "opportunities.columns = opportunities.columns.str.replace('^_', '', regex=True)\n",
    "opportunities = opportunities.rename(columns=lambda x : x.strip())"
   ]
  },
  {
   "cell_type": "code",
   "execution_count": 5,
   "metadata": {},
   "outputs": [
    {
     "name": "stdout",
     "output_type": "stream",
     "text": [
      "opportunity_id\n"
     ]
    }
   ],
   "source": [
    "\"\"\"rename system system generated GUID to opportunityID\"\"\"\n",
    "opportunities.rename(columns={opportunities.columns[0]: 'opportunity_id', 'Status' : 'Won'},\n",
    "                     inplace=True)\n",
    "print(opportunities.columns[0])"
   ]
  },
  {
   "cell_type": "code",
   "execution_count": 6,
   "metadata": {},
   "outputs": [],
   "source": [
    "\"\"\"prepare NAICS codes for join\"\"\"\n",
    "opportunities['NAICS'] = opportunities['NAICS'].str.replace(r'\\D', '', regex=True)\n",
    "opportunities['NAICS'] = opportunities['NAICS'].str.strip()\n",
    "opportunities['NAICS'] = opportunities['NAICS'].fillna(value=0)\n",
    "opportunities['NAICS'].isnull().sum()\n",
    "opportunities['NAICS'] = opportunities['NAICS'].astype(int)"
   ]
  },
  {
   "cell_type": "code",
   "execution_count": 7,
   "metadata": {},
   "outputs": [],
   "source": [
    "\"\"\"merge opportunities and NAICS\"\"\"\n",
    "opportunities = pd.merge(opportunities, NAICS, how='inner', left_on = ['NAICS'],  right_on = ['mcg_naicscode'])"
   ]
  },
  {
   "cell_type": "markdown",
   "metadata": {},
   "source": [
    "*Handle Missing and Non-informative Data*\n",
    "\n",
    "- Drop columns containing non-informative data\n",
    "- Replace missing values for categorical features with \"\\_missing_\"\n",
    "- Replace missing numerical features with appropriate values or drop if necessary"
   ]
  },
  {
   "cell_type": "code",
   "execution_count": 8,
   "metadata": {},
   "outputs": [
    {
     "name": "stdout",
     "output_type": "stream",
     "text": [
      "Dropping non-informative features reduces the dimension of the dataset to 66 features.\n"
     ]
    }
   ],
   "source": [
    "\"\"\"drop unecessary columns\"\"\"\n",
    "opportunities.drop(columns=['Row_Checksum', 'LOB_Service_Line', 'Solution_Set', 'D&B_Company', \n",
    "                            'D&B_Financial', 'IPM_Date_Acquired', 'IPM_Date_Lost', 'Import_Date', \n",
    "                            'Record_Created_On', 'Modified_On', 'Actual_Close_Date', 'Sales_Stage', \n",
    "                            'Original_Opportunity', 'D&B_Company', 'Assets','Est_Fees', 'Total_Amount',\n",
    "                            'Revenue_This_Year_Aggregated', 'Status_Reason', 'MSA', 'Rating','Consulting_Lead',\n",
    "                            'Region', 'Deliverability_Rating', 'Relationship_Strength', 'mcg_naicscode',\n",
    "                            'mcg_name', 'mcg_sicdescription', 'Commissonable', 'CJP_Target', 'Account_Original_Source', \n",
    "                            'Business_Type','D&B_NAICS', 'National_Initiative', 'Territory_Code', 'Last_Interaction',\n",
    "                            'NAICS', 'Created_By', 'mcg_description', 'mcg_subsectortext0', 'Collaboration-Approved_Date', 'Description'], axis=1, inplace=True)\n",
    "\n",
    "print(\"Dropping non-informative features reduces the dimension of the dataset to {} features.\".format(len(opportunities.columns)))"
   ]
  },
  {
   "cell_type": "code",
   "execution_count": 9,
   "metadata": {},
   "outputs": [
    {
     "name": "stdout",
     "output_type": "stream",
     "text": [
      "0 opportunity_id\n",
      "1 Entity_ID\n",
      "2 City\n",
      "3 State_Province\n",
      "4 County\n",
      "5 Country_Region\n",
      "6 ZIP_Postal_Code\n",
      "7 Latitude\n",
      "8 Longitude\n",
      "9 Currency\n",
      "10 Est_Revenue\n",
      "11 Lead_Source\n",
      "12 Type\n",
      "13 Probability\n",
      "14 Account_Rating\n",
      "15 No_of_Employees\n",
      "16 Open_Deals\n",
      "17 Open_Revenue\n",
      "18 Customer_Need\n",
      "19 Engagement_Type\n",
      "20 Owner\n",
      "21 Account_Mgmt_1\n",
      "22 Account_Mgmt_2\n",
      "23 Relationship_Lead\n",
      "24 Annual_Revenue\n",
      "25 Business_Developer_1\n",
      "26 Business_Developer_2\n",
      "27 Created_On\n",
      "28 Est_Close_Date\n",
      "29 System_Close_Date\n",
      "30 Won\n",
      "31 Referral_Contact\n",
      "32 Approval_Status\n",
      "33 PSE_1\n",
      "34 PSE_2\n",
      "35 CFY_RSM_Services_Spend\n",
      "36 Current_Situation\n",
      "37 EAL\n",
      "38 Internationally_Active\n",
      "39 IPM_Lost_Reason\n",
      "40 Microsoft_Enterprise_Agreement\n",
      "41 Microsoft_Reference_Program\n",
      "42 Other_Software\n",
      "43 Preferred_Method_of_Contact\n",
      "44 Preferred_Service\n",
      "45 Private_Equity\n",
      "46 Referral_Notes\n",
      "47 Referring_Firm\n",
      "48 Revenue_Last_Year\n",
      "49 Revenue_This_Year\n",
      "50 Territory\n",
      "51 VIP_Client?\n",
      "52 Full_Name\n",
      "53 Full_or_Part-time\n",
      "54 Function\n",
      "55 Job_Title\n",
      "56 Office_Location\n",
      "57 Category\n",
      "58 Client_Status\n",
      "59 D&B_Match_Flag\n",
      "60 D&B_Ultimate_Parent\n",
      "61 Market_Capitalization\n",
      "62 Market_Capitalization\n",
      "63 PFY_RSM_Services_Spend\n",
      "64 mcg_industrysector_displayname\n",
      "65 mcg_industry_displayname\n"
     ]
    }
   ],
   "source": [
    "for i in range(len(opportunities.columns)):\n",
    "    print(i, opportunities.columns[i])"
   ]
  },
  {
   "cell_type": "code",
   "execution_count": 10,
   "metadata": {},
   "outputs": [],
   "source": [
    "\"\"\"rename NAICS columns\"\"\"\n",
    "opportunities.rename(columns={'mcg_industry_displayname' : 'industry','mcg_industrysector_displayname' : 'industry_sector'}, inplace=True)"
   ]
  },
  {
   "cell_type": "code",
   "execution_count": 11,
   "metadata": {},
   "outputs": [
    {
     "name": "stdout",
     "output_type": "stream",
     "text": [
      "datetime64[ns]\n",
      "datetime64[ns]\n",
      "datetime64[ns]\n"
     ]
    }
   ],
   "source": [
    "\"\"\"verify data type for datetime columns\"\"\"\n",
    "print(opportunities['Created_On'].dtype)\n",
    "print(opportunities['Est_Close_Date'].dtype)\n",
    "print(opportunities['System_Close_Date'].dtype)"
   ]
  },
  {
   "cell_type": "code",
   "execution_count": 12,
   "metadata": {},
   "outputs": [
    {
     "data": {
      "text/plain": [
       "858"
      ]
     },
     "execution_count": 12,
     "metadata": {},
     "output_type": "execute_result"
    }
   ],
   "source": [
    "\"\"\"create new feature days active\"\"\"\n",
    "opportunities['days_active'] = opportunities['System_Close_Date'] - opportunities['Created_On']\n",
    "opportunities['days_active'] = opportunities['days_active'] / np.timedelta64(1, 'D')\n",
    "opportunities['days_active'][opportunities['days_active'] <= 0].count()"
   ]
  },
  {
   "cell_type": "markdown",
   "metadata": {},
   "source": [
    "Creating the new feature \"days_active\" shows the existence of 858 opportunities that were active for a negative amount of days. This is due to errors with data entry. For the purpose of this analysis all sales opportunities with negative days active will be removed from the data."
   ]
  },
  {
   "cell_type": "code",
   "execution_count": 13,
   "metadata": {},
   "outputs": [],
   "source": [
    "\"\"\"drop problem dates\"\"\"\n",
    "problem_dates = \\\n",
    "opportunities[['days_active', 'Created_On', 'System_Close_Date']][opportunities['days_active'] < 10].index\n",
    "opportunities.drop(index=problem_dates, inplace=True)"
   ]
  },
  {
   "cell_type": "code",
   "execution_count": 14,
   "metadata": {},
   "outputs": [],
   "source": [
    "\"\"\"create a new feature \"revenue_size\" as categorical representation of estimated revenue for a given opportunity\"\"\"\n",
    "pd.set_option('display.float_format', lambda x : '%.2f' % x)\n",
    "revenue_range = opportunities['Est_Revenue'].describe()\n",
    "opportunities.loc[opportunities['Est_Revenue'].between(revenue_range['min'], revenue_range['25%'], 'both'), 'revenue_size'] = 'low'\n",
    "opportunities.loc[opportunities['Est_Revenue'].between(revenue_range['25%'], revenue_range['75%'], 'right'), 'revenue_size'] = 'med'\n",
    "opportunities.loc[opportunities['Est_Revenue'].between(revenue_range['75%'], revenue_range['max'], 'right'), 'revenue_size'] = 'high'"
   ]
  },
  {
   "cell_type": "code",
   "execution_count": 15,
   "metadata": {},
   "outputs": [
    {
     "data": {
      "text/plain": [
       "opportunity_id    0\n",
       "Entity_ID         0\n",
       "dtype: int64"
      ]
     },
     "execution_count": 15,
     "metadata": {},
     "output_type": "execute_result"
    }
   ],
   "source": [
    "\"\"\"ensure no missing values in key columns\"\"\"\n",
    "opportunities[['opportunity_id', 'Entity_ID']].isna().sum()"
   ]
  },
  {
   "cell_type": "code",
   "execution_count": 16,
   "metadata": {},
   "outputs": [
    {
     "data": {
      "text/plain": [
       "'\\nperc = 0.50\\nthreshold = int(perc*opportunities.shape[0])\\nopportunities.dropna(axis=1, thresh=threshold, inplace=True)\\nprint(\"Dropping features missing 50 percent or more data reduces the dimension of the dataset\"\\n\" to {} features.\".format(len(opportunities.columns)))\\n'"
      ]
     },
     "execution_count": 16,
     "metadata": {},
     "output_type": "execute_result"
    }
   ],
   "source": [
    "# drop columns missing more than 50% of values\n",
    "\"\"\"\n",
    "perc = 0.50\n",
    "threshold = int(perc*opportunities.shape[0])\n",
    "opportunities.dropna(axis=1, thresh=threshold, inplace=True)\n",
    "print(\"Dropping features missing 50 percent or more data reduces the dimension of the dataset\"\n",
    "\" to {} features.\".format(len(opportunities.columns)))\n",
    "\"\"\""
   ]
  },
  {
   "cell_type": "markdown",
   "metadata": {},
   "source": [
    "Separate continuous and categorical features"
   ]
  },
  {
   "cell_type": "code",
   "execution_count": 17,
   "metadata": {},
   "outputs": [],
   "source": [
    "\"\"\"seperate numerical and categorical columns\"\"\"\n",
    "opportunityID = opportunities[['opportunity_id', 'Entity_ID']].copy()\n",
    "opp_numeric = opportunities.select_dtypes(include=[np.number])\n",
    "opp_non_numeric = opportunities.select_dtypes(exclude=[np.number])\n",
    "opp_non_numeric.drop(columns=['City', 'State_Province', 'Country_Region','County',\n",
    "                             'ZIP_Postal_Code'], inplace=True)\n",
    "opp_geographic = opportunities.iloc[:, 0:9].copy()"
   ]
  },
  {
   "cell_type": "code",
   "execution_count": 18,
   "metadata": {},
   "outputs": [],
   "source": [
    "opp_numeric = pd.merge(opportunityID, opp_numeric, left_index=True, right_index=True, how='inner')\n",
    "opp_non_numeric = pd.merge(opportunityID, opp_non_numeric, left_index=True, right_index=True, how='inner')\n",
    "opp_numeric.drop(columns=['Entity_ID_y', 'Latitude', 'Longitude'], axis=1, inplace=True)\n",
    "opp_non_numeric.drop(columns=['opportunity_id_y'], axis=1, inplace=True)\n",
    "opp_numeric.rename(columns={'Entity_ID_x' : 'Entity_ID'}, inplace=True)\n",
    "opp_non_numeric.rename(columns={'opportunity_id_x' : 'opportunity_id'}, inplace=True)\n",
    "opp_numeric.set_index(['opportunity_id', 'Entity_ID'], inplace=True)\n",
    "opp_non_numeric.set_index(['opportunity_id', 'Entity_ID'], inplace=True)\n",
    "opp_geographic.set_index(['opportunity_id', 'Entity_ID'], inplace=True)"
   ]
  },
  {
   "cell_type": "code",
   "execution_count": 19,
   "metadata": {},
   "outputs": [
    {
     "name": "stdout",
     "output_type": "stream",
     "text": [
      "(1864, 19)\n",
      "(1864, 40)\n"
     ]
    }
   ],
   "source": [
    "\"\"\"sanity check\"\"\"\n",
    "print(opp_numeric.shape)\n",
    "print(opp_non_numeric.shape)"
   ]
  },
  {
   "cell_type": "code",
   "execution_count": 20,
   "metadata": {},
   "outputs": [
    {
     "data": {
      "text/plain": [
       "Currency                             0\n",
       "Lead_Source                          0\n",
       "Type                                 0\n",
       "Probability                        144\n",
       "Account_Rating                     851\n",
       "Customer_Need                     1647\n",
       "Engagement_Type                   1665\n",
       "Owner                                0\n",
       "Account_Mgmt_1                     818\n",
       "Account_Mgmt_2                    1855\n",
       "Relationship_Lead                    0\n",
       "Business_Developer_1              1354\n",
       "Business_Developer_2              1799\n",
       "Created_On                           0\n",
       "Est_Close_Date                       0\n",
       "System_Close_Date                    0\n",
       "Won                                  0\n",
       "Referral_Contact                  1857\n",
       "PSE_1                             1634\n",
       "PSE_2                             1790\n",
       "EAL                               1652\n",
       "Internationally_Active             733\n",
       "IPM_Lost_Reason                   1596\n",
       "Microsoft_Enterprise_Agreement     760\n",
       "Microsoft_Reference_Program       1447\n",
       "Other_Software                    1836\n",
       "Preferred_Method_of_Contact          0\n",
       "Private_Equity                     213\n",
       "Referral_Notes                    1843\n",
       "VIP_Client?                          0\n",
       "Full_Name                         1862\n",
       "Full_or_Part-time                 1862\n",
       "Function                          1862\n",
       "Job_Title                         1862\n",
       "Office_Location                   1862\n",
       "Client_Status                      309\n",
       "D&B_Match_Flag                    1334\n",
       "industry_sector                      0\n",
       "industry                             0\n",
       "revenue_size                         0\n",
       "dtype: int64"
      ]
     },
     "execution_count": 20,
     "metadata": {},
     "output_type": "execute_result"
    }
   ],
   "source": [
    "opp_non_numeric.isnull().sum()"
   ]
  },
  {
   "cell_type": "code",
   "execution_count": 21,
   "metadata": {},
   "outputs": [
    {
     "data": {
      "text/plain": [
       "Currency                          0\n",
       "Lead_Source                       0\n",
       "Type                              0\n",
       "Probability                       0\n",
       "Account_Rating                    0\n",
       "Customer_Need                     0\n",
       "Engagement_Type                   0\n",
       "Owner                             0\n",
       "Account_Mgmt_1                    0\n",
       "Account_Mgmt_2                    0\n",
       "Relationship_Lead                 0\n",
       "Business_Developer_1              0\n",
       "Business_Developer_2              0\n",
       "Created_On                        0\n",
       "Est_Close_Date                    0\n",
       "System_Close_Date                 0\n",
       "Won                               0\n",
       "Referral_Contact                  0\n",
       "PSE_1                             0\n",
       "PSE_2                             0\n",
       "EAL                               0\n",
       "Internationally_Active            0\n",
       "IPM_Lost_Reason                   0\n",
       "Microsoft_Enterprise_Agreement    0\n",
       "Microsoft_Reference_Program       0\n",
       "Other_Software                    0\n",
       "Preferred_Method_of_Contact       0\n",
       "Private_Equity                    0\n",
       "Referral_Notes                    0\n",
       "VIP_Client?                       0\n",
       "Full_Name                         0\n",
       "Full_or_Part-time                 0\n",
       "Function                          0\n",
       "Job_Title                         0\n",
       "Office_Location                   0\n",
       "Client_Status                     0\n",
       "D&B_Match_Flag                    0\n",
       "industry_sector                   0\n",
       "industry                          0\n",
       "revenue_size                      0\n",
       "dtype: int64"
      ]
     },
     "execution_count": 21,
     "metadata": {},
     "output_type": "execute_result"
    }
   ],
   "source": [
    "\"\"\"fillna for categorical features with value \"_missing_\" \"\"\"\n",
    "opp_non_numeric.fillna(value='_missing_', inplace=True)\n",
    "opp_non_numeric.isnull().sum()"
   ]
  },
  {
   "cell_type": "code",
   "execution_count": 22,
   "metadata": {},
   "outputs": [
    {
     "data": {
      "text/plain": [
       "Est_Revenue                  0\n",
       "No_of_Employees              8\n",
       "Open_Deals                   0\n",
       "Open_Revenue                 0\n",
       "Annual_Revenue               9\n",
       "Approval_Status           1864\n",
       "CFY_RSM_Services_Spend     277\n",
       "Current_Situation         1864\n",
       "Preferred_Service         1864\n",
       "Referring_Firm            1864\n",
       "Revenue_Last_Year         1864\n",
       "Revenue_This_Year         1864\n",
       "Territory                 1864\n",
       "Category                  1864\n",
       "D&B_Ultimate_Parent       1864\n",
       "Market_Capitalization     1864\n",
       "Market_Capitalization     1864\n",
       "PFY_RSM_Services_Spend     277\n",
       "days_active                  0\n",
       "dtype: int64"
      ]
     },
     "execution_count": 22,
     "metadata": {},
     "output_type": "execute_result"
    }
   ],
   "source": [
    "opp_numeric.isnull().sum()"
   ]
  },
  {
   "cell_type": "code",
   "execution_count": 23,
   "metadata": {},
   "outputs": [
    {
     "name": "stdout",
     "output_type": "stream",
     "text": [
      "Dropping features missing 50 percent or more data reduces the dimension of the dataset to 8 features.\n"
     ]
    }
   ],
   "source": [
    "perc = 0.50\n",
    "threshold = int(perc*opportunities.shape[0])\n",
    "opp_numeric.dropna(axis=1, thresh=threshold, inplace=True)\n",
    "print(\"Dropping features missing 50 percent or more data reduces the dimension of the dataset\"\n",
    "\" to {} features.\".format(len(opp_numeric.columns)))"
   ]
  },
  {
   "cell_type": "markdown",
   "metadata": {},
   "source": [
    "Printing a count of null values for each continuous variable shows that the columns \"CFY_RSM_Services_Spend\" and \"PFY_RSM_Services_Spend\" are both missing 277 observations each. It's assumed that missing values in these columns represent clients who have not purchased consulting services from the firm in either of the two periods. As such, missing values will be replaced with 0."
   ]
  },
  {
   "cell_type": "code",
   "execution_count": 24,
   "metadata": {},
   "outputs": [],
   "source": [
    "\"\"\"fill current fiscal year spend and previous fiscal year spend with 0, assuming if value not given no prior or current spend\"\"\"\n",
    "opp_numeric['CFY_RSM_Services_Spend'] = opp_numeric['CFY_RSM_Services_Spend'].fillna(value=0)\n",
    "opp_numeric['PFY_RSM_Services_Spend'] = opp_numeric['PFY_RSM_Services_Spend'].fillna(value=0)"
   ]
  },
  {
   "cell_type": "code",
   "execution_count": 25,
   "metadata": {},
   "outputs": [
    {
     "data": {
      "text/plain": [
       "\"Drop rows where annual revenue or number of employees is missing\\nopp_numeric = opp_numeric.dropna(subset=['Annual_Revenue', 'No_of_Employees'])\\n\""
      ]
     },
     "execution_count": 25,
     "metadata": {},
     "output_type": "execute_result"
    }
   ],
   "source": [
    "\"\"\"Drop rows where annual revenue or number of employees is missing\n",
    "opp_numeric = opp_numeric.dropna(subset=['Annual_Revenue', 'No_of_Employees'])\n",
    "\"\"\""
   ]
  },
  {
   "cell_type": "code",
   "execution_count": 26,
   "metadata": {},
   "outputs": [
    {
     "data": {
      "text/plain": [
       "(1864, 8)"
      ]
     },
     "execution_count": 26,
     "metadata": {},
     "output_type": "execute_result"
    }
   ],
   "source": [
    "\"\"\"print dimensions\"\"\"\n",
    "opp_numeric.shape"
   ]
  },
  {
   "cell_type": "code",
   "execution_count": 27,
   "metadata": {},
   "outputs": [
    {
     "data": {
      "text/plain": [
       "Est_Revenue               0\n",
       "No_of_Employees           8\n",
       "Open_Deals                0\n",
       "Open_Revenue              0\n",
       "Annual_Revenue            9\n",
       "CFY_RSM_Services_Spend    0\n",
       "PFY_RSM_Services_Spend    0\n",
       "days_active               0\n",
       "dtype: int64"
      ]
     },
     "execution_count": 27,
     "metadata": {},
     "output_type": "execute_result"
    }
   ],
   "source": [
    "\"\"\"sanity check\"\"\"\n",
    "opp_numeric.isnull().sum()"
   ]
  },
  {
   "cell_type": "markdown",
   "metadata": {},
   "source": [
    "## *Explore Categorical Features*"
   ]
  },
  {
   "cell_type": "markdown",
   "metadata": {},
   "source": [
    "Objectives\n",
    "- Examine frequency distruibution of categorical features\n",
    "- Drop further features based on domain knowledge"
   ]
  },
  {
   "cell_type": "code",
   "execution_count": 28,
   "metadata": {},
   "outputs": [],
   "source": [
    "\"\"\"Transform \"Status\" to binary outcome\"\"\"\n",
    "opp_non_numeric['Won'] = opp_non_numeric['Won'].apply(lambda x : 1 if (x == 'Won') else 0)"
   ]
  },
  {
   "cell_type": "code",
   "execution_count": 29,
   "metadata": {},
   "outputs": [
    {
     "data": {
      "text/plain": [
       "Won\n",
       "0   0.52\n",
       "1   0.48\n",
       "dtype: float64"
      ]
     },
     "execution_count": 29,
     "metadata": {},
     "output_type": "execute_result"
    }
   ],
   "source": [
    "\"\"\"Print win/loss percentage\"\"\"\n",
    "opp_non_numeric.value_counts('Won',normalize=True)"
   ]
  },
  {
   "cell_type": "code",
   "execution_count": 30,
   "metadata": {},
   "outputs": [
    {
     "data": {
      "text/plain": [
       "revenue_size  Won\n",
       "high          0     0.66\n",
       "              1     0.34\n",
       "low           1     0.51\n",
       "              0     0.49\n",
       "med           1     0.54\n",
       "              0     0.46\n",
       "dtype: float64"
      ]
     },
     "execution_count": 30,
     "metadata": {},
     "output_type": "execute_result"
    }
   ],
   "source": [
    "\"\"\"Win vs Loss by estimated revenue and industry\"\"\"\n",
    "opp_non_numeric[['Won', 'revenue_size']].groupby(['revenue_size']).value_counts('Won', normalize=True)"
   ]
  },
  {
   "cell_type": "code",
   "execution_count": 31,
   "metadata": {},
   "outputs": [
    {
     "data": {
      "text/plain": [
       "Type\n",
       "Existing Relationship - New Business   0.45\n",
       "Existing Relationship - Renewal        0.28\n",
       "New Relationship - New Business        0.27\n",
       "dtype: float64"
      ]
     },
     "execution_count": 31,
     "metadata": {},
     "output_type": "execute_result"
    }
   ],
   "source": [
    "opp_non_numeric.value_counts('Type', normalize=True)"
   ]
  },
  {
   "cell_type": "code",
   "execution_count": 32,
   "metadata": {},
   "outputs": [
    {
     "data": {
      "text/plain": [
       "Type                                  Won\n",
       "Existing Relationship - New Business  1      488\n",
       "                                      0      343\n",
       "Existing Relationship - Renewal       0      285\n",
       "                                      1      242\n",
       "New Relationship - New Business       0      337\n",
       "                                      1      169\n",
       "dtype: int64"
      ]
     },
     "execution_count": 32,
     "metadata": {},
     "output_type": "execute_result"
    }
   ],
   "source": [
    "opp_non_numeric[['Type', 'Won']].groupby(['Type']).value_counts('Won')"
   ]
  },
  {
   "cell_type": "code",
   "execution_count": 33,
   "metadata": {},
   "outputs": [
    {
     "data": {
      "text/plain": [
       "Client_Status\n",
       "Existing Client   0.69\n",
       "_missing_         0.17\n",
       "New               0.15\n",
       "dtype: float64"
      ]
     },
     "execution_count": 33,
     "metadata": {},
     "output_type": "execute_result"
    }
   ],
   "source": [
    "opp_non_numeric.value_counts('Client_Status', normalize=True)"
   ]
  },
  {
   "cell_type": "markdown",
   "metadata": {},
   "source": [
    "The features \"Type\" and \"Client_Status\" provide similar infomation abut a given opportunity. Type is a more informative and more complete feature. Client_Status will be dropped."
   ]
  },
  {
   "cell_type": "code",
   "execution_count": 34,
   "metadata": {},
   "outputs": [],
   "source": [
    "opp_non_numeric.drop(columns=['Client_Status'], inplace=True)"
   ]
  },
  {
   "cell_type": "code",
   "execution_count": 35,
   "metadata": {},
   "outputs": [
    {
     "data": {
      "text/plain": [
       "Currency\n",
       "US Dollar    1864\n",
       "dtype: int64"
      ]
     },
     "execution_count": 35,
     "metadata": {},
     "output_type": "execute_result"
    }
   ],
   "source": [
    "opp_non_numeric.value_counts('Currency')"
   ]
  },
  {
   "cell_type": "markdown",
   "metadata": {},
   "source": [
    "\"Currency\" takes on a singe value \"US Dollar.\" The feature adds no valuable information about the data."
   ]
  },
  {
   "cell_type": "code",
   "execution_count": 36,
   "metadata": {},
   "outputs": [],
   "source": [
    "opp_non_numeric.drop(columns=['Currency'], inplace=True)"
   ]
  },
  {
   "cell_type": "code",
   "execution_count": 37,
   "metadata": {},
   "outputs": [
    {
     "data": {
      "text/plain": [
       "Lead_Source\n",
       "Inactive - Junction Solutions         393\n",
       "BD Activity                           301\n",
       "Partner                               269\n",
       "Director                              197\n",
       "Referral - Other                      190\n",
       "Inside Sales                          112\n",
       "Manager                               103\n",
       "Referral - Microsoft                   78\n",
       "Marketing Campaign - National          62\n",
       "Website                                51\n",
       "Other                                  29\n",
       "National Call Center                   27\n",
       "RSM System Selection                   27\n",
       "Reputation                              9\n",
       "COI                                     4\n",
       "RFP                                     4\n",
       "Marketing Campaign - Regional           3\n",
       "RSM Alumni                              2\n",
       "RSM Int'l Inbound                       1\n",
       "Inactive - Explore Consulting, LLC      1\n",
       "Trade Show                              1\n",
       "dtype: int64"
      ]
     },
     "execution_count": 37,
     "metadata": {},
     "output_type": "execute_result"
    }
   ],
   "source": [
    "opp_non_numeric.value_counts('Lead_Source')"
   ]
  },
  {
   "cell_type": "code",
   "execution_count": 38,
   "metadata": {},
   "outputs": [
    {
     "data": {
      "text/plain": [
       "Preferred_Method_of_Contact\n",
       "Any    1864\n",
       "dtype: int64"
      ]
     },
     "execution_count": 38,
     "metadata": {},
     "output_type": "execute_result"
    }
   ],
   "source": [
    "opp_non_numeric.value_counts('Preferred_Method_of_Contact')"
   ]
  },
  {
   "cell_type": "markdown",
   "metadata": {},
   "source": [
    "\"Preferred_Method_of_Contact\" takes on a single value any. The feature provides no additional information about the dataset."
   ]
  },
  {
   "cell_type": "code",
   "execution_count": 39,
   "metadata": {},
   "outputs": [],
   "source": [
    "opp_non_numeric.drop(columns=['Preferred_Method_of_Contact'], inplace=True)"
   ]
  },
  {
   "cell_type": "code",
   "execution_count": 40,
   "metadata": {},
   "outputs": [
    {
     "data": {
      "text/plain": [
       "VIP_Client?\n",
       "No    1864\n",
       "dtype: int64"
      ]
     },
     "execution_count": 40,
     "metadata": {},
     "output_type": "execute_result"
    }
   ],
   "source": [
    "opp_non_numeric.value_counts(\"VIP_Client?\")"
   ]
  },
  {
   "cell_type": "markdown",
   "metadata": {},
   "source": [
    "\"VIP_Client?\" takes on a single value \"No.\" The feature provides no additional information about the dataset"
   ]
  },
  {
   "cell_type": "code",
   "execution_count": 41,
   "metadata": {},
   "outputs": [],
   "source": [
    "opp_non_numeric.drop(columns=['VIP_Client?'], inplace=True)"
   ]
  },
  {
   "cell_type": "code",
   "execution_count": 42,
   "metadata": {},
   "outputs": [
    {
     "data": {
      "application/vnd.plotly.v1+json": {
       "config": {
        "plotlyServerURL": "https://plot.ly"
       },
       "data": [
        {
         "branchvalues": "total",
         "domain": {
          "x": [
           0,
           1
          ],
          "y": [
           0,
           1
          ]
         },
         "hovertemplate": "labels=%{label}<br>Won=%{value}<br>parent=%{parent}<br>id=%{id}<extra></extra>",
         "ids": [
          "all/Business and Professional Services/Architecture/Engineering/Consulting",
          "all/Financial Services/Asset Management",
          "all/Industrials/B2B Wholesale/Distribution",
          "all/Life Sciences/Bio/Pharma",
          "all/Business and Professional Services/Business Services",
          "all/Real Estate/Construction",
          "all/Consumer Products/Consumer Goods",
          "all/NonProfit and Education/Education",
          "all/Industrials/Energy",
          "all/Federal Government/Federal Government",
          "all/Financial Services/Financial Institutions",
          "all/Consumer Products/Food & Beverage",
          "all/Gaming/Gaming",
          "all/Health Care/Hospitals & Health Care Systems",
          "all/Financial Services/Insurance",
          "all/Life Sciences/Life Sciences",
          "all/Industrials/Manufacturing",
          "all/TMT/Media & Entertainment",
          "all/Life Sciences/Medical Devices",
          "all/NonProfit and Education/Nonprofit",
          "all/Private Clubs/Private Clubs",
          "all/Business and Professional Services/Professional Services",
          "all/Real Estate/Real Estate",
          "all/Consumer Products/Retail & Restaurants",
          "all/Financial Services/Specialty Finance",
          "all/State and Local Government/State, Local Government",
          "all/TMT/Technology",
          "all/TMT/Telecommunications",
          "all/Business and Professional Services",
          "all/Consumer Products",
          "all/Federal Government",
          "all/Financial Services",
          "all/Gaming",
          "all/Health Care",
          "all/Industrials",
          "all/Life Sciences",
          "all/NonProfit and Education",
          "all/Private Clubs",
          "all/Real Estate",
          "all/State and Local Government",
          "all/TMT",
          "all"
         ],
         "labels": [
          "Architecture/Engineering/Consulting",
          "Asset Management",
          "B2B Wholesale/Distribution",
          "Bio/Pharma",
          "Business Services",
          "Construction",
          "Consumer Goods",
          "Education",
          "Energy",
          "Federal Government",
          "Financial Institutions",
          "Food & Beverage",
          "Gaming",
          "Hospitals & Health Care Systems",
          "Insurance",
          "Life Sciences",
          "Manufacturing",
          "Media & Entertainment",
          "Medical Devices",
          "Nonprofit",
          "Private Clubs",
          "Professional Services",
          "Real Estate",
          "Retail & Restaurants",
          "Specialty Finance",
          "State, Local Government",
          "Technology",
          "Telecommunications",
          "Business and Professional Services",
          "Consumer Products",
          "Federal Government",
          "Financial Services",
          "Gaming",
          "Health Care",
          "Industrials",
          "Life Sciences",
          "NonProfit and Education",
          "Private Clubs",
          "Real Estate",
          "State and Local Government",
          "TMT",
          "all"
         ],
         "name": "",
         "parents": [
          "all/Business and Professional Services",
          "all/Financial Services",
          "all/Industrials",
          "all/Life Sciences",
          "all/Business and Professional Services",
          "all/Real Estate",
          "all/Consumer Products",
          "all/NonProfit and Education",
          "all/Industrials",
          "all/Federal Government",
          "all/Financial Services",
          "all/Consumer Products",
          "all/Gaming",
          "all/Health Care",
          "all/Financial Services",
          "all/Life Sciences",
          "all/Industrials",
          "all/TMT",
          "all/Life Sciences",
          "all/NonProfit and Education",
          "all/Private Clubs",
          "all/Business and Professional Services",
          "all/Real Estate",
          "all/Consumer Products",
          "all/Financial Services",
          "all/State and Local Government",
          "all/TMT",
          "all/TMT",
          "all",
          "all",
          "all",
          "all",
          "all",
          "all",
          "all",
          "all",
          "all",
          "all",
          "all",
          "all",
          "all",
          ""
         ],
         "type": "treemap",
         "values": [
          0,
          3,
          48,
          57,
          8,
          11,
          79,
          6,
          21,
          0,
          4,
          317,
          0,
          14,
          12,
          0,
          56,
          10,
          14,
          11,
          6,
          18,
          1,
          163,
          3,
          21,
          12,
          4,
          26,
          559,
          0,
          22,
          0,
          14,
          125,
          71,
          17,
          6,
          12,
          21,
          26,
          899
         ]
        }
       ],
       "layout": {
        "legend": {
         "tracegroupgap": 0
        },
        "margin": {
         "b": 25,
         "l": 25,
         "r": 25,
         "t": 35
        },
        "template": {
         "data": {
          "bar": [
           {
            "error_x": {
             "color": "#2a3f5f"
            },
            "error_y": {
             "color": "#2a3f5f"
            },
            "marker": {
             "line": {
              "color": "#E5ECF6",
              "width": 0.5
             },
             "pattern": {
              "fillmode": "overlay",
              "size": 10,
              "solidity": 0.2
             }
            },
            "type": "bar"
           }
          ],
          "barpolar": [
           {
            "marker": {
             "line": {
              "color": "#E5ECF6",
              "width": 0.5
             },
             "pattern": {
              "fillmode": "overlay",
              "size": 10,
              "solidity": 0.2
             }
            },
            "type": "barpolar"
           }
          ],
          "carpet": [
           {
            "aaxis": {
             "endlinecolor": "#2a3f5f",
             "gridcolor": "white",
             "linecolor": "white",
             "minorgridcolor": "white",
             "startlinecolor": "#2a3f5f"
            },
            "baxis": {
             "endlinecolor": "#2a3f5f",
             "gridcolor": "white",
             "linecolor": "white",
             "minorgridcolor": "white",
             "startlinecolor": "#2a3f5f"
            },
            "type": "carpet"
           }
          ],
          "choropleth": [
           {
            "colorbar": {
             "outlinewidth": 0,
             "ticks": ""
            },
            "type": "choropleth"
           }
          ],
          "contour": [
           {
            "colorbar": {
             "outlinewidth": 0,
             "ticks": ""
            },
            "colorscale": [
             [
              0,
              "#0d0887"
             ],
             [
              0.1111111111111111,
              "#46039f"
             ],
             [
              0.2222222222222222,
              "#7201a8"
             ],
             [
              0.3333333333333333,
              "#9c179e"
             ],
             [
              0.4444444444444444,
              "#bd3786"
             ],
             [
              0.5555555555555556,
              "#d8576b"
             ],
             [
              0.6666666666666666,
              "#ed7953"
             ],
             [
              0.7777777777777778,
              "#fb9f3a"
             ],
             [
              0.8888888888888888,
              "#fdca26"
             ],
             [
              1,
              "#f0f921"
             ]
            ],
            "type": "contour"
           }
          ],
          "contourcarpet": [
           {
            "colorbar": {
             "outlinewidth": 0,
             "ticks": ""
            },
            "type": "contourcarpet"
           }
          ],
          "heatmap": [
           {
            "colorbar": {
             "outlinewidth": 0,
             "ticks": ""
            },
            "colorscale": [
             [
              0,
              "#0d0887"
             ],
             [
              0.1111111111111111,
              "#46039f"
             ],
             [
              0.2222222222222222,
              "#7201a8"
             ],
             [
              0.3333333333333333,
              "#9c179e"
             ],
             [
              0.4444444444444444,
              "#bd3786"
             ],
             [
              0.5555555555555556,
              "#d8576b"
             ],
             [
              0.6666666666666666,
              "#ed7953"
             ],
             [
              0.7777777777777778,
              "#fb9f3a"
             ],
             [
              0.8888888888888888,
              "#fdca26"
             ],
             [
              1,
              "#f0f921"
             ]
            ],
            "type": "heatmap"
           }
          ],
          "heatmapgl": [
           {
            "colorbar": {
             "outlinewidth": 0,
             "ticks": ""
            },
            "colorscale": [
             [
              0,
              "#0d0887"
             ],
             [
              0.1111111111111111,
              "#46039f"
             ],
             [
              0.2222222222222222,
              "#7201a8"
             ],
             [
              0.3333333333333333,
              "#9c179e"
             ],
             [
              0.4444444444444444,
              "#bd3786"
             ],
             [
              0.5555555555555556,
              "#d8576b"
             ],
             [
              0.6666666666666666,
              "#ed7953"
             ],
             [
              0.7777777777777778,
              "#fb9f3a"
             ],
             [
              0.8888888888888888,
              "#fdca26"
             ],
             [
              1,
              "#f0f921"
             ]
            ],
            "type": "heatmapgl"
           }
          ],
          "histogram": [
           {
            "marker": {
             "pattern": {
              "fillmode": "overlay",
              "size": 10,
              "solidity": 0.2
             }
            },
            "type": "histogram"
           }
          ],
          "histogram2d": [
           {
            "colorbar": {
             "outlinewidth": 0,
             "ticks": ""
            },
            "colorscale": [
             [
              0,
              "#0d0887"
             ],
             [
              0.1111111111111111,
              "#46039f"
             ],
             [
              0.2222222222222222,
              "#7201a8"
             ],
             [
              0.3333333333333333,
              "#9c179e"
             ],
             [
              0.4444444444444444,
              "#bd3786"
             ],
             [
              0.5555555555555556,
              "#d8576b"
             ],
             [
              0.6666666666666666,
              "#ed7953"
             ],
             [
              0.7777777777777778,
              "#fb9f3a"
             ],
             [
              0.8888888888888888,
              "#fdca26"
             ],
             [
              1,
              "#f0f921"
             ]
            ],
            "type": "histogram2d"
           }
          ],
          "histogram2dcontour": [
           {
            "colorbar": {
             "outlinewidth": 0,
             "ticks": ""
            },
            "colorscale": [
             [
              0,
              "#0d0887"
             ],
             [
              0.1111111111111111,
              "#46039f"
             ],
             [
              0.2222222222222222,
              "#7201a8"
             ],
             [
              0.3333333333333333,
              "#9c179e"
             ],
             [
              0.4444444444444444,
              "#bd3786"
             ],
             [
              0.5555555555555556,
              "#d8576b"
             ],
             [
              0.6666666666666666,
              "#ed7953"
             ],
             [
              0.7777777777777778,
              "#fb9f3a"
             ],
             [
              0.8888888888888888,
              "#fdca26"
             ],
             [
              1,
              "#f0f921"
             ]
            ],
            "type": "histogram2dcontour"
           }
          ],
          "mesh3d": [
           {
            "colorbar": {
             "outlinewidth": 0,
             "ticks": ""
            },
            "type": "mesh3d"
           }
          ],
          "parcoords": [
           {
            "line": {
             "colorbar": {
              "outlinewidth": 0,
              "ticks": ""
             }
            },
            "type": "parcoords"
           }
          ],
          "pie": [
           {
            "automargin": true,
            "type": "pie"
           }
          ],
          "scatter": [
           {
            "fillpattern": {
             "fillmode": "overlay",
             "size": 10,
             "solidity": 0.2
            },
            "type": "scatter"
           }
          ],
          "scatter3d": [
           {
            "line": {
             "colorbar": {
              "outlinewidth": 0,
              "ticks": ""
             }
            },
            "marker": {
             "colorbar": {
              "outlinewidth": 0,
              "ticks": ""
             }
            },
            "type": "scatter3d"
           }
          ],
          "scattercarpet": [
           {
            "marker": {
             "colorbar": {
              "outlinewidth": 0,
              "ticks": ""
             }
            },
            "type": "scattercarpet"
           }
          ],
          "scattergeo": [
           {
            "marker": {
             "colorbar": {
              "outlinewidth": 0,
              "ticks": ""
             }
            },
            "type": "scattergeo"
           }
          ],
          "scattergl": [
           {
            "marker": {
             "colorbar": {
              "outlinewidth": 0,
              "ticks": ""
             }
            },
            "type": "scattergl"
           }
          ],
          "scattermapbox": [
           {
            "marker": {
             "colorbar": {
              "outlinewidth": 0,
              "ticks": ""
             }
            },
            "type": "scattermapbox"
           }
          ],
          "scatterpolar": [
           {
            "marker": {
             "colorbar": {
              "outlinewidth": 0,
              "ticks": ""
             }
            },
            "type": "scatterpolar"
           }
          ],
          "scatterpolargl": [
           {
            "marker": {
             "colorbar": {
              "outlinewidth": 0,
              "ticks": ""
             }
            },
            "type": "scatterpolargl"
           }
          ],
          "scatterternary": [
           {
            "marker": {
             "colorbar": {
              "outlinewidth": 0,
              "ticks": ""
             }
            },
            "type": "scatterternary"
           }
          ],
          "surface": [
           {
            "colorbar": {
             "outlinewidth": 0,
             "ticks": ""
            },
            "colorscale": [
             [
              0,
              "#0d0887"
             ],
             [
              0.1111111111111111,
              "#46039f"
             ],
             [
              0.2222222222222222,
              "#7201a8"
             ],
             [
              0.3333333333333333,
              "#9c179e"
             ],
             [
              0.4444444444444444,
              "#bd3786"
             ],
             [
              0.5555555555555556,
              "#d8576b"
             ],
             [
              0.6666666666666666,
              "#ed7953"
             ],
             [
              0.7777777777777778,
              "#fb9f3a"
             ],
             [
              0.8888888888888888,
              "#fdca26"
             ],
             [
              1,
              "#f0f921"
             ]
            ],
            "type": "surface"
           }
          ],
          "table": [
           {
            "cells": {
             "fill": {
              "color": "#EBF0F8"
             },
             "line": {
              "color": "white"
             }
            },
            "header": {
             "fill": {
              "color": "#C8D4E3"
             },
             "line": {
              "color": "white"
             }
            },
            "type": "table"
           }
          ]
         },
         "layout": {
          "annotationdefaults": {
           "arrowcolor": "#2a3f5f",
           "arrowhead": 0,
           "arrowwidth": 1
          },
          "autotypenumbers": "strict",
          "coloraxis": {
           "colorbar": {
            "outlinewidth": 0,
            "ticks": ""
           }
          },
          "colorscale": {
           "diverging": [
            [
             0,
             "#8e0152"
            ],
            [
             0.1,
             "#c51b7d"
            ],
            [
             0.2,
             "#de77ae"
            ],
            [
             0.3,
             "#f1b6da"
            ],
            [
             0.4,
             "#fde0ef"
            ],
            [
             0.5,
             "#f7f7f7"
            ],
            [
             0.6,
             "#e6f5d0"
            ],
            [
             0.7,
             "#b8e186"
            ],
            [
             0.8,
             "#7fbc41"
            ],
            [
             0.9,
             "#4d9221"
            ],
            [
             1,
             "#276419"
            ]
           ],
           "sequential": [
            [
             0,
             "#0d0887"
            ],
            [
             0.1111111111111111,
             "#46039f"
            ],
            [
             0.2222222222222222,
             "#7201a8"
            ],
            [
             0.3333333333333333,
             "#9c179e"
            ],
            [
             0.4444444444444444,
             "#bd3786"
            ],
            [
             0.5555555555555556,
             "#d8576b"
            ],
            [
             0.6666666666666666,
             "#ed7953"
            ],
            [
             0.7777777777777778,
             "#fb9f3a"
            ],
            [
             0.8888888888888888,
             "#fdca26"
            ],
            [
             1,
             "#f0f921"
            ]
           ],
           "sequentialminus": [
            [
             0,
             "#0d0887"
            ],
            [
             0.1111111111111111,
             "#46039f"
            ],
            [
             0.2222222222222222,
             "#7201a8"
            ],
            [
             0.3333333333333333,
             "#9c179e"
            ],
            [
             0.4444444444444444,
             "#bd3786"
            ],
            [
             0.5555555555555556,
             "#d8576b"
            ],
            [
             0.6666666666666666,
             "#ed7953"
            ],
            [
             0.7777777777777778,
             "#fb9f3a"
            ],
            [
             0.8888888888888888,
             "#fdca26"
            ],
            [
             1,
             "#f0f921"
            ]
           ]
          },
          "colorway": [
           "#636efa",
           "#EF553B",
           "#00cc96",
           "#ab63fa",
           "#FFA15A",
           "#19d3f3",
           "#FF6692",
           "#B6E880",
           "#FF97FF",
           "#FECB52"
          ],
          "font": {
           "color": "#2a3f5f"
          },
          "geo": {
           "bgcolor": "white",
           "lakecolor": "white",
           "landcolor": "#E5ECF6",
           "showlakes": true,
           "showland": true,
           "subunitcolor": "white"
          },
          "hoverlabel": {
           "align": "left"
          },
          "hovermode": "closest",
          "mapbox": {
           "style": "light"
          },
          "paper_bgcolor": "white",
          "plot_bgcolor": "#E5ECF6",
          "polar": {
           "angularaxis": {
            "gridcolor": "white",
            "linecolor": "white",
            "ticks": ""
           },
           "bgcolor": "#E5ECF6",
           "radialaxis": {
            "gridcolor": "white",
            "linecolor": "white",
            "ticks": ""
           }
          },
          "scene": {
           "xaxis": {
            "backgroundcolor": "#E5ECF6",
            "gridcolor": "white",
            "gridwidth": 2,
            "linecolor": "white",
            "showbackground": true,
            "ticks": "",
            "zerolinecolor": "white"
           },
           "yaxis": {
            "backgroundcolor": "#E5ECF6",
            "gridcolor": "white",
            "gridwidth": 2,
            "linecolor": "white",
            "showbackground": true,
            "ticks": "",
            "zerolinecolor": "white"
           },
           "zaxis": {
            "backgroundcolor": "#E5ECF6",
            "gridcolor": "white",
            "gridwidth": 2,
            "linecolor": "white",
            "showbackground": true,
            "ticks": "",
            "zerolinecolor": "white"
           }
          },
          "shapedefaults": {
           "line": {
            "color": "#2a3f5f"
           }
          },
          "ternary": {
           "aaxis": {
            "gridcolor": "white",
            "linecolor": "white",
            "ticks": ""
           },
           "baxis": {
            "gridcolor": "white",
            "linecolor": "white",
            "ticks": ""
           },
           "bgcolor": "#E5ECF6",
           "caxis": {
            "gridcolor": "white",
            "linecolor": "white",
            "ticks": ""
           }
          },
          "title": {
           "x": 0.05
          },
          "xaxis": {
           "automargin": true,
           "gridcolor": "white",
           "linecolor": "white",
           "ticks": "",
           "title": {
            "standoff": 15
           },
           "zerolinecolor": "white",
           "zerolinewidth": 2
          },
          "yaxis": {
           "automargin": true,
           "gridcolor": "white",
           "linecolor": "white",
           "ticks": "",
           "title": {
            "standoff": 15
           },
           "zerolinecolor": "white",
           "zerolinewidth": 2
          }
         }
        },
        "title": {
         "text": "Wins by Industry Sector",
         "x": 0.5
        }
       }
      }
     },
     "metadata": {},
     "output_type": "display_data"
    }
   ],
   "source": [
    "fig = px.treemap(opp_non_numeric, path=[px.Constant('all'), 'industry', 'industry_sector'], \n",
    "                 values = 'Won', title='Wins by Industry Sector')\n",
    "fig.update_layout(title_x=0.5, margin = dict(t=35, l=25, r=25, b=25))\n",
    "fig.show()"
   ]
  },
  {
   "cell_type": "markdown",
   "metadata": {},
   "source": [
    "### Methods\n",
    "\n",
    "- Print Summary Statistics\n",
    "- Inspect Data Distribution"
   ]
  },
  {
   "cell_type": "code",
   "execution_count": 43,
   "metadata": {},
   "outputs": [
    {
     "data": {
      "text/html": [
       "<div>\n",
       "<style scoped>\n",
       "    .dataframe tbody tr th:only-of-type {\n",
       "        vertical-align: middle;\n",
       "    }\n",
       "\n",
       "    .dataframe tbody tr th {\n",
       "        vertical-align: top;\n",
       "    }\n",
       "\n",
       "    .dataframe thead th {\n",
       "        text-align: right;\n",
       "    }\n",
       "</style>\n",
       "<table border=\"1\" class=\"dataframe\">\n",
       "  <thead>\n",
       "    <tr style=\"text-align: right;\">\n",
       "      <th></th>\n",
       "      <th>Est_Revenue</th>\n",
       "      <th>No_of_Employees</th>\n",
       "      <th>Open_Deals</th>\n",
       "      <th>Open_Revenue</th>\n",
       "      <th>Annual_Revenue</th>\n",
       "      <th>CFY_RSM_Services_Spend</th>\n",
       "      <th>PFY_RSM_Services_Spend</th>\n",
       "      <th>days_active</th>\n",
       "    </tr>\n",
       "  </thead>\n",
       "  <tbody>\n",
       "    <tr>\n",
       "      <th>count</th>\n",
       "      <td>1864.00</td>\n",
       "      <td>1856.00</td>\n",
       "      <td>1864.00</td>\n",
       "      <td>1864.00</td>\n",
       "      <td>1855.00</td>\n",
       "      <td>1864.00</td>\n",
       "      <td>1864.00</td>\n",
       "      <td>1864.00</td>\n",
       "    </tr>\n",
       "    <tr>\n",
       "      <th>mean</th>\n",
       "      <td>597278.87</td>\n",
       "      <td>1573.03</td>\n",
       "      <td>0.90</td>\n",
       "      <td>355214.65</td>\n",
       "      <td>412761653.60</td>\n",
       "      <td>481431.32</td>\n",
       "      <td>470588.04</td>\n",
       "      <td>165.83</td>\n",
       "    </tr>\n",
       "    <tr>\n",
       "      <th>std</th>\n",
       "      <td>1095086.35</td>\n",
       "      <td>4936.64</td>\n",
       "      <td>2.21</td>\n",
       "      <td>1069502.42</td>\n",
       "      <td>1226698144.34</td>\n",
       "      <td>1186845.76</td>\n",
       "      <td>1032951.63</td>\n",
       "      <td>204.24</td>\n",
       "    </tr>\n",
       "    <tr>\n",
       "      <th>min</th>\n",
       "      <td>-1.00</td>\n",
       "      <td>0.00</td>\n",
       "      <td>0.00</td>\n",
       "      <td>0.00</td>\n",
       "      <td>0.00</td>\n",
       "      <td>-21385.15</td>\n",
       "      <td>-52946.11</td>\n",
       "      <td>10.02</td>\n",
       "    </tr>\n",
       "    <tr>\n",
       "      <th>25%</th>\n",
       "      <td>31611.25</td>\n",
       "      <td>75.00</td>\n",
       "      <td>0.00</td>\n",
       "      <td>0.00</td>\n",
       "      <td>17314300.50</td>\n",
       "      <td>0.00</td>\n",
       "      <td>0.00</td>\n",
       "      <td>34.40</td>\n",
       "    </tr>\n",
       "    <tr>\n",
       "      <th>50%</th>\n",
       "      <td>140000.00</td>\n",
       "      <td>350.00</td>\n",
       "      <td>0.00</td>\n",
       "      <td>0.00</td>\n",
       "      <td>104158463.00</td>\n",
       "      <td>25394.46</td>\n",
       "      <td>31335.26</td>\n",
       "      <td>90.06</td>\n",
       "    </tr>\n",
       "    <tr>\n",
       "      <th>75%</th>\n",
       "      <td>700000.00</td>\n",
       "      <td>1020.00</td>\n",
       "      <td>1.00</td>\n",
       "      <td>50000.00</td>\n",
       "      <td>426034499.50</td>\n",
       "      <td>311407.75</td>\n",
       "      <td>391719.66</td>\n",
       "      <td>209.39</td>\n",
       "    </tr>\n",
       "    <tr>\n",
       "      <th>max</th>\n",
       "      <td>14047440.00</td>\n",
       "      <td>95000.00</td>\n",
       "      <td>34.00</td>\n",
       "      <td>7000000.00</td>\n",
       "      <td>30000000000.00</td>\n",
       "      <td>7308498.75</td>\n",
       "      <td>6214816.48</td>\n",
       "      <td>1554.61</td>\n",
       "    </tr>\n",
       "  </tbody>\n",
       "</table>\n",
       "</div>"
      ],
      "text/plain": [
       "       Est_Revenue  No_of_Employees  Open_Deals  Open_Revenue  Annual_Revenue  \\\n",
       "count      1864.00          1856.00     1864.00       1864.00         1855.00   \n",
       "mean     597278.87          1573.03        0.90     355214.65    412761653.60   \n",
       "std     1095086.35          4936.64        2.21    1069502.42   1226698144.34   \n",
       "min          -1.00             0.00        0.00          0.00            0.00   \n",
       "25%       31611.25            75.00        0.00          0.00     17314300.50   \n",
       "50%      140000.00           350.00        0.00          0.00    104158463.00   \n",
       "75%      700000.00          1020.00        1.00      50000.00    426034499.50   \n",
       "max    14047440.00         95000.00       34.00    7000000.00  30000000000.00   \n",
       "\n",
       "       CFY_RSM_Services_Spend  PFY_RSM_Services_Spend  days_active  \n",
       "count                 1864.00                 1864.00      1864.00  \n",
       "mean                481431.32               470588.04       165.83  \n",
       "std                1186845.76              1032951.63       204.24  \n",
       "min                 -21385.15               -52946.11        10.02  \n",
       "25%                      0.00                    0.00        34.40  \n",
       "50%                  25394.46                31335.26        90.06  \n",
       "75%                 311407.75               391719.66       209.39  \n",
       "max                7308498.75              6214816.48      1554.61  "
      ]
     },
     "execution_count": 43,
     "metadata": {},
     "output_type": "execute_result"
    }
   ],
   "source": [
    "\"\"\"Print summary statistics\"\"\"\n",
    "pd.set_option('display.float_format', lambda x : '%.2f' % x)\n",
    "opp_numeric.describe()"
   ]
  },
  {
   "cell_type": "code",
   "execution_count": 44,
   "metadata": {},
   "outputs": [
    {
     "data": {
      "image/png": "[encoded data removed]",
      "text/plain": [
       "<Figure size 1440x1080 with 6 Axes>"
      ]
     },
     "metadata": {
      "needs_background": "light"
     },
     "output_type": "display_data"
    }
   ],
   "source": [
    "fig, ax = plt.subplots(2, 3, figsize=(20, 15))\n",
    "sns.histplot(opp_numeric, x='Est_Revenue', stat='density', kde=True, ax=ax[0,0])\n",
    "sns.histplot(opp_numeric, x='No_of_Employees', stat='density', kde=True, ax=ax[0, 1])\n",
    "sns.histplot(opp_numeric, x='Open_Revenue', stat='density', kde=True, ax=ax[0, 2])\n",
    "sns.histplot(opp_numeric, x='Annual_Revenue', stat='density', kde=True, ax=ax[1,0])\n",
    "sns.histplot(opp_numeric, x='CFY_RSM_Services_Spend', stat='density', kde=True, ax=ax[1, 1])\n",
    "sns.histplot(opp_numeric, x='PFY_RSM_Services_Spend', stat='density', kde=True, ax=ax[1, 2])\n",
    "plt.ticklabel_format(style='Plain')\n",
    "fig.suptitle('Distribution of Continuous Variables (High-Level)')\n",
    "plt.tight_layout()"
   ]
  },
  {
   "cell_type": "markdown",
   "metadata": {},
   "source": [
    "## *Explore Relationship Between Variables*"
   ]
  },
  {
   "cell_type": "markdown",
   "metadata": {},
   "source": [
    "### Methods\n",
    "\n",
    "- Pearson's Correlation\n",
    "- Distribution Plots"
   ]
  },
  {
   "cell_type": "code",
   "execution_count": 45,
   "metadata": {},
   "outputs": [
    {
     "data": {
      "image/png": "[encoded data removed]",
      "text/plain": [
       "<Figure size 720x432 with 2 Axes>"
      ]
     },
     "metadata": {},
     "output_type": "display_data"
    }
   ],
   "source": [
    "# plot correlation of numeric data\n",
    "sns.set(rc={\"figure.figsize\":(10, 6)})\n",
    "opp_numeric_corr = opp_numeric.fillna(value=0)\n",
    "correlation = sns.heatmap(opp_numeric_corr.corr(), cmap='rocket',\n",
    "                          annot=True).set_title('Pearson\\'s Correlation')"
   ]
  },
  {
   "cell_type": "code",
   "execution_count": 46,
   "metadata": {},
   "outputs": [],
   "source": [
    "\"\"\"recombine data\"\"\"\n",
    "opportunities = pd.merge(opp_numeric, opp_non_numeric, left_index=True, right_index=True, how='inner')\n",
    "opportunities = pd.merge(opportunities, opp_geographic, left_index=True, right_index=True, how='inner')\n",
    "cols = opportunities.columns.values.tolist()\n",
    "cols.insert(len(cols), cols.pop(cols.index('Won')))\n",
    "opportunities = opportunities[cols]\n",
    "#for i in range(len(opportunities.columns)):\n",
    " #   print(i, opportunities.columns[i])"
   ]
  },
  {
   "cell_type": "code",
   "execution_count": 47,
   "metadata": {},
   "outputs": [
    {
     "data": {
      "text/plain": [
       "(1864, 36)"
      ]
     },
     "execution_count": 47,
     "metadata": {},
     "output_type": "execute_result"
    }
   ],
   "source": [
    "opp_non_numeric.shape"
   ]
  },
  {
   "cell_type": "code",
   "execution_count": 48,
   "metadata": {},
   "outputs": [
    {
     "data": {
      "text/plain": [
       "Est_Revenue                        0\n",
       "No_of_Employees                    8\n",
       "Open_Deals                         0\n",
       "Open_Revenue                       0\n",
       "Annual_Revenue                     9\n",
       "CFY_RSM_Services_Spend             0\n",
       "PFY_RSM_Services_Spend             0\n",
       "days_active                        0\n",
       "Lead_Source                        0\n",
       "Type                               0\n",
       "Probability                        0\n",
       "Account_Rating                     0\n",
       "Customer_Need                      0\n",
       "Engagement_Type                    0\n",
       "Owner                              0\n",
       "Account_Mgmt_1                     0\n",
       "Account_Mgmt_2                     0\n",
       "Relationship_Lead                  0\n",
       "Business_Developer_1               0\n",
       "Business_Developer_2               0\n",
       "Created_On                         0\n",
       "Est_Close_Date                     0\n",
       "System_Close_Date                  0\n",
       "Referral_Contact                   0\n",
       "PSE_1                              0\n",
       "PSE_2                              0\n",
       "EAL                                0\n",
       "Internationally_Active             0\n",
       "IPM_Lost_Reason                    0\n",
       "Microsoft_Enterprise_Agreement     0\n",
       "Microsoft_Reference_Program        0\n",
       "Other_Software                     0\n",
       "Private_Equity                     0\n",
       "Referral_Notes                     0\n",
       "Full_Name                          0\n",
       "Full_or_Part-time                  0\n",
       "Function                           0\n",
       "Job_Title                          0\n",
       "Office_Location                    0\n",
       "D&B_Match_Flag                     0\n",
       "industry_sector                    0\n",
       "industry                           0\n",
       "revenue_size                       0\n",
       "City                               0\n",
       "State_Province                     0\n",
       "County                            97\n",
       "Country_Region                     0\n",
       "ZIP_Postal_Code                    0\n",
       "Latitude                          45\n",
       "Longitude                         45\n",
       "Won                                0\n",
       "dtype: int64"
      ]
     },
     "execution_count": 48,
     "metadata": {},
     "output_type": "execute_result"
    }
   ],
   "source": [
    "opportunities.isnull().sum()"
   ]
  },
  {
   "cell_type": "code",
   "execution_count": 49,
   "metadata": {},
   "outputs": [],
   "source": [
    "opportunities.to_csv('Opportunity_reduced.csv')"
   ]
  },
  {
   "cell_type": "markdown",
   "metadata": {},
   "source": [
    "## *_Feature Selection_*\n",
    "\n",
    "- Mutual Information Criterion"
   ]
  },
  {
   "cell_type": "code",
   "execution_count": 50,
   "metadata": {},
   "outputs": [],
   "source": [
    "opportunities.drop(columns=['Est_Close_Date', 'System_Close_Date', 'Created_On'], inplace=True)\n",
    "opportunities.dropna(axis=0, inplace=True)"
   ]
  },
  {
   "cell_type": "code",
   "execution_count": 51,
   "metadata": {},
   "outputs": [
    {
     "data": {
      "text/plain": [
       "Latitude     0\n",
       "Longitude    0\n",
       "dtype: int64"
      ]
     },
     "execution_count": 51,
     "metadata": {},
     "output_type": "execute_result"
    }
   ],
   "source": [
    "opportunities[['Latitude', 'Longitude']].isna().sum()"
   ]
  },
  {
   "cell_type": "code",
   "execution_count": 52,
   "metadata": {},
   "outputs": [],
   "source": [
    "\"\"\"preprocessing\"\"\"\n",
    "x = opportunities.iloc[:, :-1]\n",
    "y = opportunities.iloc[:, -1]\n",
    "x_catboost = opportunities.iloc[:, :-1]\n",
    "y_catboost = opportunities.iloc[:, -1]\n",
    "numeric_idx = x.select_dtypes(include=['int64', 'float64']).columns\n",
    "categorical_idx = x.select_dtypes(include=['object', 'bool']).columns\n",
    "oe = OrdinalEncoder()\n",
    "oe.fit(x[categorical_idx])\n",
    "x[categorical_idx] = oe.transform(x[categorical_idx])\n",
    "numeric_scaler = RobustScaler()\n",
    "x[numeric_idx] = numeric_scaler.fit_transform(x[numeric_idx])\n",
    "le = LabelEncoder()\n",
    "le.fit(y)\n",
    "y = le.transform(y)\n",
    "x_train, x_test, y_train, y_test = train_test_split(x, y, test_size=0.30, random_state=1)\n",
    "x_train_cat, x_test_cat, y_train_cat, y_test_cat = train_test_split(x, y, test_size=0.30, random_state=1)\n"
   ]
  },
  {
   "cell_type": "code",
   "execution_count": 53,
   "metadata": {},
   "outputs": [],
   "source": [
    "\"\"\"define Mutual Info classifier\"\"\"\n",
    "importance = mutual_info_classif(x_train, y_train, random_state=14)\n",
    "importance = pd.Series(importance, index=x_test.columns)\n",
    "importance.sort_values(ascending=False, inplace=True)\n",
    "#selector = SelectKBest(score_func=mutual_info_classif, k=20)\n",
    "#selector.fit(x_train, y_train)\n",
    "#importance_2 = pd.Series(selector.scores_[0:20], index=selector.get_feature_names_out())\n",
    "#importance_2.sort_values(ascending=False, inplace=True)\n",
    "#x_train_features = selector.transform(x_train)"
   ]
  },
  {
   "cell_type": "code",
   "execution_count": 54,
   "metadata": {},
   "outputs": [
    {
     "data": {
      "image/png": "[encoded data removed]",
      "text/plain": [
       "<Figure size 1440x1080 with 1 Axes>"
      ]
     },
     "metadata": {},
     "output_type": "display_data"
    }
   ],
   "source": [
    "\"\"\"Plot variable importance\"\"\"\n",
    "importance[0:20].sort_values(ascending=True).plot.barh(figsize=(20, 15))\n",
    "plt.title('Variable Importance')\n",
    "plt.tight_layout()"
   ]
  },
  {
   "cell_type": "code",
   "execution_count": 55,
   "metadata": {},
   "outputs": [],
   "source": [
    "\"\"\"select the 20 best variables\"\"\"\n",
    "x_train = x_train[importance[0:20].index]\n",
    "x_test = x_test[importance[0:20].index]"
   ]
  },
  {
   "cell_type": "code",
   "execution_count": 56,
   "metadata": {},
   "outputs": [
    {
     "data": {
      "text/plain": [
       "0.8159392789373814"
      ]
     },
     "execution_count": 56,
     "metadata": {},
     "output_type": "execute_result"
    }
   ],
   "source": [
    "\"\"\"really light gbm\"\"\"\n",
    "lgbm_model = LGBMClassifier()\n",
    "lgbm_model.fit(x_train, y_train)\n",
    "\n",
    "predictions = lgbm_model.predict(x_test)\n",
    "accuracy = accuracy_score(y_test, predictions)\n",
    "accuracy"
   ]
  },
  {
   "cell_type": "code",
   "execution_count": null,
   "metadata": {},
   "outputs": [],
   "source": [
    "\"\"\"light gbm\"\"\"\n",
    "\n",
    "def make_lgbm():\n",
    "\n",
    "    lgbm_models = dict()\n",
    "    for i in range(1, 11):\n",
    "        lgbm_models[str(i)] = LGBMClassifier(max_depth=i, num_leaves=i)\n",
    "    return lgbm_models\n",
    "\n",
    "def evaluate_lgbm(lgbm_model):\n",
    "    cv = RepeatedStratifiedKFold(n_splits=10, n_repeats=3, random_state=1)\n",
    "    scores = cross_val_score(lgbm_model, x_train, y_train, scoring='accuracy', cv=cv, n_jobs=-1)\n",
    "    return scores\n",
    "\n",
    "\n",
    "lgbm_models = make_lgbm()\n",
    "\n",
    "results, model_name = [], []\n",
    "\n",
    "for model_name, lgbm_model in lgbm_models.items():\n",
    "\tscores = evaluate_lgbm(lgbm_model)\n",
    "\tresults.append(scores)\n",
    "\tmodel_name.append(name)\n",
    "\tprint('>%s %.3f (%.3f)' % (model_name, np.mean(scores), np.std(scores)))\n",
    "# plot model performance for comparison\n",
    "plt.boxplot(results, labels=model_name, showmeans=True)\n",
    "plt.show()\n",
    "\n"
   ]
  },
  {
   "cell_type": "code",
   "execution_count": 57,
   "metadata": {},
   "outputs": [
    {
     "ename": "NameError",
     "evalue": "name 'make_lgbm' is not defined",
     "output_type": "error",
     "traceback": [
      "\u001b[0;31m---------------------------------------------------------------------------\u001b[0m",
      "\u001b[0;31mNameError\u001b[0m                                 Traceback (most recent call last)",
      "\u001b[1;32m/Users/benkarabinus/Git/Tools1/TOOL1_FINAL_PROJECT/Karabinus_Ben_Final_Project_Rough.ipynb Cell 76'\u001b[0m in \u001b[0;36m<cell line: 16>\u001b[0;34m()\u001b[0m\n\u001b[1;32m     <a href='vscode-notebook-cell:/Users/benkarabinus/Git/Tools1/TOOL1_FINAL_PROJECT/Karabinus_Ben_Final_Project_Rough.ipynb#ch0000082?line=11'>12</a>\u001b[0m     scores \u001b[39m=\u001b[39m cross_val_score(lgbm_model, x_train, y_train, scoring\u001b[39m=\u001b[39m\u001b[39m'\u001b[39m\u001b[39maccuracy\u001b[39m\u001b[39m'\u001b[39m, cv\u001b[39m=\u001b[39mcv, n_jobs\u001b[39m=\u001b[39m\u001b[39m-\u001b[39m\u001b[39m1\u001b[39m)\n\u001b[1;32m     <a href='vscode-notebook-cell:/Users/benkarabinus/Git/Tools1/TOOL1_FINAL_PROJECT/Karabinus_Ben_Final_Project_Rough.ipynb#ch0000082?line=12'>13</a>\u001b[0m     \u001b[39mreturn\u001b[39;00m scores\n\u001b[0;32m---> <a href='vscode-notebook-cell:/Users/benkarabinus/Git/Tools1/TOOL1_FINAL_PROJECT/Karabinus_Ben_Final_Project_Rough.ipynb#ch0000082?line=15'>16</a>\u001b[0m lgbm_models \u001b[39m=\u001b[39m make_lgbm()\n\u001b[1;32m     <a href='vscode-notebook-cell:/Users/benkarabinus/Git/Tools1/TOOL1_FINAL_PROJECT/Karabinus_Ben_Final_Project_Rough.ipynb#ch0000082?line=17'>18</a>\u001b[0m results, model_name \u001b[39m=\u001b[39m [], []\n\u001b[1;32m     <a href='vscode-notebook-cell:/Users/benkarabinus/Git/Tools1/TOOL1_FINAL_PROJECT/Karabinus_Ben_Final_Project_Rough.ipynb#ch0000082?line=19'>20</a>\u001b[0m \u001b[39mfor\u001b[39;00m model_name, lgbm_model \u001b[39min\u001b[39;00m lgbm_models\u001b[39m.\u001b[39mitems():\n",
      "\u001b[0;31mNameError\u001b[0m: name 'make_lgbm' is not defined"
     ]
    }
   ],
   "source": [
    "\"\"\"XGBoost\"\"\"\n",
    "\n",
    "def make_xgboost():\n",
    "\n",
    "    xgboost_models = dict()\n",
    "    for i in range(1, 11):\n",
    "        xgboost_models[str(i)] = XGBClassifier(max_depth=i, num_leaves=i)\n",
    "    return lgbm_models\n",
    "\n",
    "def evaluate_lgbm(lgbm_model):\n",
    "    cv = RepeatedStratifiedKFold(n_splits=10, n_repeats=3, random_state=1)\n",
    "    scores = cross_val_score(lgbm_model, x_train, y_train, scoring='accuracy', cv=cv, n_jobs=-1)\n",
    "    return scores\n",
    "\n",
    "\n",
    "lgbm_models = make_lgbm()\n",
    "\n",
    "results, model_name = [], []\n",
    "\n",
    "for model_name, lgbm_model in lgbm_models.items():\n",
    "\tscores = evaluate_lgbm(lgbm_model)\n",
    "\tresults.append(scores)\n",
    "\tmodel_name.append(name)\n",
    "\tprint('>%s %.3f (%.3f)' % (model_name, np.mean(scores), np.std(scores)))\n",
    "# plot model performance for comparison\n",
    "plt.boxplot(results, labels=model_name, showmeans=True)\n",
    "plt.show()"
   ]
  },
  {
   "cell_type": "code",
   "execution_count": 58,
   "metadata": {},
   "outputs": [
    {
     "data": {
      "text/plain": [
       "0.8311195445920304"
      ]
     },
     "execution_count": 58,
     "metadata": {},
     "output_type": "execute_result"
    }
   ],
   "source": [
    "\"\"\"simple XGBoost\"\"\"\n",
    "xgboost_model = XGBClassifier()\n",
    "xgboost_model.fit(x_train, y_train)\n",
    "predictions = xgboost_model.predict(x_test)\n",
    "accuracy = accuracy_score(y_test, predictions)\n",
    "accuracy"
   ]
  }
 ],
 "metadata": {
  "interpreter": {
   "hash": "f25bf5c41ed9750fee6e834acff1598b309f3cea0a5eb382eb6a03fe96228341"
  },
  "kernelspec": {
   "display_name": "Python 3.9.12 ('TOOL1_FINAL_PROJECT-_N6x3YZ3')",
   "language": "python",
   "name": "python3"
  },
  "language_info": {
   "codemirror_mode": {
    "name": "ipython",
    "version": 3
   },
   "file_extension": ".py",
   "mimetype": "text/x-python",
   "name": "python",
   "nbconvert_exporter": "python",
   "pygments_lexer": "ipython3",
   "version": "3.9.12"
  },
  "orig_nbformat": 4
 },
 "nbformat": 4,
 "nbformat_minor": 2
}
